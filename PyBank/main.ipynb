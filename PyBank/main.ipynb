{
 "cells": [
  {
   "cell_type": "code",
   "execution_count": 19,
   "id": "9e5b8001",
   "metadata": {},
   "outputs": [],
   "source": [
    "import csv\n",
    "import os\n",
    "\n",
    "## get the csv file path\n",
    "current_dir = os.getcwd()\n",
    "path_budget_data = os.path.join(current_dir, \"Resources\", \"budget_data.csv\") \n",
    "\n",
    "def read_csv_file(file_path):\n",
    "    data = []\n",
    "    with open(file_path, 'r') as file:\n",
    "        reader = csv.DictReader(file)\n",
    "        for row in reader:\n",
    "            data.append(dict(row))\n",
    "    return data\n",
    "\n",
    "def count_total_month(data):\n",
    "    total_months = 0\n",
    "    for row in data:\n",
    "        total_months += 1\n",
    "    return total_months\n",
    "\n",
    "def get_total(data,field_name):\n",
    "    net_total = 0\n",
    "    for row in data:\n",
    "        net_total += int(row[field_name])\n",
    "    return net_total\n",
    "\n",
    "def get_change(data,field_name):\n",
    "    changes = []\n",
    "    for i in range(1, len(data)):\n",
    "        current_profit = int(data[i][field_name])\n",
    "        previous_profit = int(data[i-1][field_name])\n",
    "        changes.append(current_profit - previous_profit)\n",
    "    return changes\n",
    "\n",
    "def get_avg_change(changes):\n",
    "    avg_change = sum(changes) / len(changes)\n",
    "    return avg_change\n",
    "\n",
    "def get_max_increase(changes):\n",
    "    max_increase = 0\n",
    "    for i in changes:\n",
    "        if i>max_increase:\n",
    "            max_increase=i\n",
    "    return max_increase\n",
    "\n",
    "def get_max_decrease(changes):\n",
    "    max_decrease = 0\n",
    "    for i in changes:\n",
    "        if i<max_decrease:\n",
    "            max_decrease=i\n",
    "    return max_decrease"
   ]
  },
  {
   "cell_type": "code",
   "execution_count": 20,
   "id": "b8891282",
   "metadata": {},
   "outputs": [],
   "source": [
    "#calling all the functions\n",
    "data=read_csv_file(path_budget_data)\n",
    "totoal_months=count_total_month(data)\n",
    "net_total=get_total(data,'Profit/Losses')\n",
    "changes=get_change(data,'Profit/Losses')\n",
    "avg_change=round(get_avg_change(changes),2)\n",
    "max_increase=get_max_increase(changes)\n",
    "max_decrease = get_max_decrease(changes)\n",
    "max_increase_date = data[changes.index(max_increase) + 1][\"Date\"]\n",
    "max_decrease_date = data[changes.index(max_decrease) + 1][\"Date\"]"
   ]
  },
  {
   "cell_type": "code",
   "execution_count": 21,
   "id": "63df54ad",
   "metadata": {},
   "outputs": [
    {
     "name": "stdout",
     "output_type": "stream",
     "text": [
      "Financial Analysis\n",
      "----------------------------\n",
      "Total Months: 86\n",
      "Total: $38382578\n",
      "Average Change: $-2315.12\n",
      "Greatest Increase in Profits: Feb-2012 ($1926159)\n",
      "Greatest Decrease in Profits: Sep-2013 ($-2196167)\n"
     ]
    }
   ],
   "source": [
    "# print the analysis results\n",
    "print(\"Financial Analysis\")\n",
    "print(\"----------------------------\")\n",
    "print(f\"Total Months: {total_months}\")\n",
    "print(f\"Total: ${net_total}\")\n",
    "print(f\"Average Change: ${avg_change}\")\n",
    "print(f\"Greatest Increase in Profits: {max_increase_date} (${max_increase})\")\n",
    "print(f\"Greatest Decrease in Profits: {max_decrease_date} (${max_decrease})\")"
   ]
  },
  {
   "cell_type": "code",
   "execution_count": 22,
   "id": "49bbae3e",
   "metadata": {},
   "outputs": [],
   "source": [
    "# Create and Write the analysis results to the file\n",
    "with open('financial_analysis.txt', 'w') as file:\n",
    "    file.write(\"Financial Analysis\\n\")\n",
    "    file.write(\"--------------------\\n\")\n",
    "    file.write(f\"Total Months: {total_months}\\n\")\n",
    "    file.write(f\"Total: ${net_total}\\n\")\n",
    "    file.write(f\"Average Change: ${avg_change:.2f}\\n\")\n",
    "    file.write(f\"Greatest Increase in Profits: {max_increase_date} (${max_increase})\\n\")\n",
    "    file.write(f\"Greatest Decrease in Profits: {max_decrease_date} (${max_decrease})\\n\")"
   ]
  }
 ],
 "metadata": {
  "kernelspec": {
   "display_name": "Python 3 (ipykernel)",
   "language": "python",
   "name": "python3"
  },
  "language_info": {
   "codemirror_mode": {
    "name": "ipython",
    "version": 3
   },
   "file_extension": ".py",
   "mimetype": "text/x-python",
   "name": "python",
   "nbconvert_exporter": "python",
   "pygments_lexer": "ipython3",
   "version": "3.9.13"
  }
 },
 "nbformat": 4,
 "nbformat_minor": 5
}
